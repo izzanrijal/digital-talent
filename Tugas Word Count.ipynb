{
 "cells": [
  {
   "cell_type": "markdown",
   "metadata": {},
   "source": [
    "# LATIHAN 3 - Word Count\n",
    "Diberikan sebuah paragraf, hitunglah banyak kemunculan masing-masing kata.\n",
    "Contoh : \"Presiden pagi ini melakukan kunjungan ke Jogja\"\n",
    "\n",
    "- Presiden: 1\n",
    "- pagi: 1\n",
    "- ini: 1\n",
    "- melakukan: 1\n",
    "- kunjungan: 1\n",
    "- ke: 1\n",
    "- Jogja: 1\n",
    "\n",
    "hints: Gunakan Dictionary dalam menyimpan word count. Gunakan kata sebagai key, dan jumlah kemunculan sebagai value"
   ]
  },
  {
   "cell_type": "code",
   "execution_count": 1,
   "metadata": {},
   "outputs": [
    {
     "name": "stdout",
     "output_type": "stream",
     "text": [
      "Barcelona berhasil merebut posisi puncak klasemen La Liga Spanyol seusai menang 4-2 atas Sevilla pada pertandingan pekan kesembilan di Stadion Camp Nou, Sabtu (20/10/2018) atau Minggu dini hari WIB. Barcelona membuka keunggulan pada menit ke-2 melalui gol yang dicetak oleh Philippe Coutinho. Lionel Messi menggandakan keunggulan Barcelona, 10 menit berselang.  Namun, nahas bagi Barcelona, karena Messi harus ditarik keluar pada menit ke-26 setelah mengalami cedera. Tanpa Messi, skor 2-0 bertahan hingga babak pertama berakhir.\n"
     ]
    }
   ],
   "source": [
    "paragraf = \"Barcelona berhasil merebut posisi puncak klasemen La Liga Spanyol seusai menang 4-2 atas Sevilla pada pertandingan pekan kesembilan di Stadion Camp Nou, Sabtu (20/10/2018) atau Minggu dini hari WIB. Barcelona membuka keunggulan pada menit ke-2 melalui gol yang dicetak oleh Philippe Coutinho. Lionel Messi menggandakan keunggulan Barcelona, 10 menit berselang.  Namun, nahas bagi Barcelona, karena Messi harus ditarik keluar pada menit ke-26 setelah mengalami cedera. Tanpa Messi, skor 2-0 bertahan hingga babak pertama berakhir.\"\n",
    "print(paragraf)"
   ]
  },
  {
   "cell_type": "code",
   "execution_count": 4,
   "metadata": {},
   "outputs": [
    {
     "name": "stdout",
     "output_type": "stream",
     "text": [
      "barcelona berhasil merebut posisi puncak klasemen la liga spanyol seusai menang 4-2 atas sevilla pada pertandingan pekan kesembilan di stadion camp nou sabtu (20/10/2018) atau minggu dini hari wib barcelona membuka keunggulan pada menit ke-2 melalui gol yang dicetak oleh philippe coutinho lionel messi menggandakan keunggulan barcelona 10 menit berselang  namun nahas bagi barcelona karena messi harus ditarik keluar pada menit ke-26 setelah mengalami cedera tanpa messi skor 2-0 bertahan hingga babak pertama berakhir\n"
     ]
    }
   ],
   "source": [
    "#Data cleansing\n",
    "\n",
    "paragraf = paragraf.replace(\".\",\"\")\n",
    "paragraf = paragraf.replace(\",\",\"\")\n",
    "paragraf = paragraf.lower()\n",
    "print (paragraf)"
   ]
  },
  {
   "cell_type": "code",
   "execution_count": 5,
   "metadata": {},
   "outputs": [
    {
     "name": "stdout",
     "output_type": "stream",
     "text": [
      "['barcelona', 'berhasil', 'merebut', 'posisi', 'puncak', 'klasemen', 'la', 'liga', 'spanyol', 'seusai', 'menang', '4-2', 'atas', 'sevilla', 'pada', 'pertandingan', 'pekan', 'kesembilan', 'di', 'stadion', 'camp', 'nou', 'sabtu', '(20/10/2018)', 'atau', 'minggu', 'dini', 'hari', 'wib', 'barcelona', 'membuka', 'keunggulan', 'pada', 'menit', 'ke-2', 'melalui', 'gol', 'yang', 'dicetak', 'oleh', 'philippe', 'coutinho', 'lionel', 'messi', 'menggandakan', 'keunggulan', 'barcelona', '10', 'menit', 'berselang', 'namun', 'nahas', 'bagi', 'barcelona', 'karena', 'messi', 'harus', 'ditarik', 'keluar', 'pada', 'menit', 'ke-26', 'setelah', 'mengalami', 'cedera', 'tanpa', 'messi', 'skor', '2-0', 'bertahan', 'hingga', 'babak', 'pertama', 'berakhir']\n"
     ]
    }
   ],
   "source": [
    "#Split by words\n",
    "\n",
    "words = paragraf.split()\n",
    "print(words)\n",
    "    "
   ]
  },
  {
   "cell_type": "code",
   "execution_count": 13,
   "metadata": {},
   "outputs": [
    {
     "name": "stdout",
     "output_type": "stream",
     "text": [
      "barcelona = 4 kali\n",
      "berhasil = 1 kali\n",
      "merebut = 1 kali\n",
      "posisi = 1 kali\n",
      "puncak = 1 kali\n",
      "klasemen = 1 kali\n",
      "la = 1 kali\n",
      "liga = 1 kali\n",
      "spanyol = 1 kali\n",
      "seusai = 1 kali\n",
      "menang = 1 kali\n",
      "4-2 = 1 kali\n",
      "atas = 1 kali\n",
      "sevilla = 1 kali\n",
      "pada = 3 kali\n",
      "pertandingan = 1 kali\n",
      "pekan = 1 kali\n",
      "kesembilan = 1 kali\n",
      "di = 1 kali\n",
      "stadion = 1 kali\n",
      "camp = 1 kali\n",
      "nou = 1 kali\n",
      "sabtu = 1 kali\n",
      "(20/10/2018) = 1 kali\n",
      "atau = 1 kali\n",
      "minggu = 1 kali\n",
      "dini = 1 kali\n",
      "hari = 1 kali\n",
      "wib = 1 kali\n",
      "membuka = 1 kali\n",
      "keunggulan = 2 kali\n",
      "menit = 3 kali\n",
      "ke-2 = 1 kali\n",
      "melalui = 1 kali\n",
      "gol = 1 kali\n",
      "yang = 1 kali\n",
      "dicetak = 1 kali\n",
      "oleh = 1 kali\n",
      "philippe = 1 kali\n",
      "coutinho = 1 kali\n",
      "lionel = 1 kali\n",
      "messi = 3 kali\n",
      "menggandakan = 1 kali\n",
      "10 = 1 kali\n",
      "berselang = 1 kali\n",
      "namun = 1 kali\n",
      "nahas = 1 kali\n",
      "bagi = 1 kali\n",
      "karena = 1 kali\n",
      "harus = 1 kali\n",
      "ditarik = 1 kali\n",
      "keluar = 1 kali\n",
      "ke-26 = 1 kali\n",
      "setelah = 1 kali\n",
      "mengalami = 1 kali\n",
      "cedera = 1 kali\n",
      "tanpa = 1 kali\n",
      "skor = 1 kali\n",
      "2-0 = 1 kali\n",
      "bertahan = 1 kali\n",
      "hingga = 1 kali\n",
      "babak = 1 kali\n",
      "pertama = 1 kali\n",
      "berakhir = 1 kali\n"
     ]
    }
   ],
   "source": [
    "#Word counting\n",
    "\n",
    "count={}\n",
    "\n",
    "for x in words:\n",
    "    if x not in count:\n",
    "        count[x]=0\n",
    "    count[x] = count[x] + 1\n",
    "    \n",
    "for k,v in count.items():\n",
    "    print(k, \"=\", v,  \"kali\")"
   ]
  }
 ],
 "metadata": {
  "kernelspec": {
   "display_name": "Python 3",
   "language": "python",
   "name": "python3"
  },
  "language_info": {
   "codemirror_mode": {
    "name": "ipython",
    "version": 3
   },
   "file_extension": ".py",
   "mimetype": "text/x-python",
   "name": "python",
   "nbconvert_exporter": "python",
   "pygments_lexer": "ipython3",
   "version": "3.7.0"
  }
 },
 "nbformat": 4,
 "nbformat_minor": 2
}
