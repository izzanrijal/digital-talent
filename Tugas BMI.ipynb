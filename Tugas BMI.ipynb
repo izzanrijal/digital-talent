{
 "cells": [
  {
   "cell_type": "markdown",
   "metadata": {},
   "source": [
    "## Measuring Your Body Mass Index\n",
    "\n",
    "Coded by Izzan Rijal (October 19th 2018)"
   ]
  },
  {
   "cell_type": "code",
   "execution_count": 2,
   "metadata": {},
   "outputs": [
    {
     "name": "stdout",
     "output_type": "stream",
     "text": [
      "Your Body Mass Index (BMI) is 19.38\n",
      "Based on BMI Classification, Your are Normal (Healthy Weight)\n"
     ]
    }
   ],
   "source": [
    "#put your weight and height below\n",
    "\n",
    "weight = 56 #in kilograms\n",
    "height = 170 #in centimeters\n",
    "\n",
    "#-------------------------------\n",
    "\n",
    "bmi = weight / ((height/100)**2)\n",
    "\n",
    "bmi = round (bmi,2)\n",
    "\n",
    "print (str(\"Your Body Mass Index (BMI) is \") + str(bmi))\n",
    "\n",
    "answer = 'Based on BMI Classification, Your are '\n",
    "\n",
    "if bmi <= 15.0:\n",
    "    print ( answer +'Very Severely Underweight')\n",
    "elif 15.01 <= bmi <= 16.0:\n",
    "    print ( answer +'Severely Underweight')\n",
    "elif 16.01 <= bmi <= 18.5:\n",
    "    print ( answer +'Underweight')\n",
    "elif 18.51 <= bmi <= 25.0:\n",
    "    print ( answer +'Normal (Healthy Weight)')\n",
    "elif 25.01 <= bmi <= 30.0:\n",
    "    print ( answer +'Overweight')\n",
    "elif 30.01 <= bmi <= 35.0:\n",
    "    print ( answer +'Moderately Obese (Class 1)')\n",
    "elif 35.01 <= bmi <= 40.0:\n",
    "    print ( answer +'Severely Obese (Class 2)')\n",
    "elif bmi >= 40.01:\n",
    "    print ( answer +'Very Severely Obese (Class 3)')"
   ]
  }
 ],
 "metadata": {
  "kernelspec": {
   "display_name": "Python 3",
   "language": "python",
   "name": "python3"
  },
  "language_info": {
   "codemirror_mode": {
    "name": "ipython",
    "version": 3
   },
   "file_extension": ".py",
   "mimetype": "text/x-python",
   "name": "python",
   "nbconvert_exporter": "python",
   "pygments_lexer": "ipython3",
   "version": "3.7.0"
  }
 },
 "nbformat": 4,
 "nbformat_minor": 2
}
