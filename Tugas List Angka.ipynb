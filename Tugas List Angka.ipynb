{
 "cells": [
  {
   "cell_type": "markdown",
   "metadata": {},
   "source": [
    "# LATIHAN 2\n",
    "\n",
    "Diberikan sekumpulan Nilai Random antara 0 sampai dengan 100 sebanyak 250 nilai. Buatlah program untuk melakukan hal berikut:\n",
    "1. Tampilkan Angka Ganjil dari ke 250 nilai tersebut\n",
    "2. Tampilkan berapa banyak yang mendapatkan nilai lebih dari 70\n",
    "3. Tampilkan standar deviasi dari sekumpulan nilai tersebut\n",
    "4. Tampilkan nilai maksimum dan minimum\n",
    "5. Tampilkan modus dari sekumpulan nilai tersebut"
   ]
  },
  {
   "cell_type": "code",
   "execution_count": 160,
   "metadata": {},
   "outputs": [
    {
     "name": "stdout",
     "output_type": "stream",
     "text": [
      "[89, 60, 64, 97, 69, 52, 5, 64, 42, 89, 7, 30, 84, 16, 28, 47, 26, 37, 58, 83, 40, 86, 92, 28, 10, 85, 83, 11, 81, 3, 87, 89, 35, 6, 19, 86, 82, 33, 44, 88, 45, 59, 99, 93, 33, 91, 43, 29, 23, 32, 23, 80, 95, 10, 55, 24, 23, 83, 93, 9, 35, 8, 88, 82, 95, 87, 31, 26, 17, 89, 2, 82, 4, 99, 86, 15, 57, 11, 67, 78, 91, 95, 31, 20, 15, 76, 63, 68, 77, 9, 1, 12, 99, 8, 98, 86, 38, 47, 13, 52, 26, 86, 97, 30, 79, 93, 58, 10, 15, 25, 97, 54, 74, 51, 12, 86, 92, 90, 48, 24, 86, 19, 7, 39, 8, 94, 55, 96, 55, 64, 81, 34, 19, 37, 27, 90, 69, 35, 60, 58, 59, 48, 19, 27, 99, 75, 92, 35, 23, 62, 58, 57, 32, 14, 43, 28, 84, 34, 36, 41, 13, 99, 13, 34, 96, 78, 23, 96, 35, 2, 35, 85, 77, 7, 25, 51, 86, 22, 96, 76, 95, 65, 95, 67, 20, 22, 58, 37, 61, 60, 78, 31, 56, 79, 26, 10, 10, 30, 21, 98, 61, 72, 52, 40, 48, 18, 36, 45, 92, 41, 33, 19, 7, 7, 95, 85, 48, 40, 66, 38, 78, 81, 12, 20, 70, 28, 2, 79, 12, 69, 39, 27, 43, 42, 14, 45, 66, 67, 42, 36, 30, 15, 72, 39, 60, 97, 37, 6, 70, 19]\n"
     ]
    }
   ],
   "source": [
    "nilaitugas = []\n",
    "\n",
    "import random\n",
    "\n",
    "for i in range(250):\n",
    "    nilaitugas.append(random.randrange(1,100,1))\n",
    "\n",
    "print (nilaitugas)"
   ]
  },
  {
   "cell_type": "code",
   "execution_count": 139,
   "metadata": {},
   "outputs": [
    {
     "name": "stdout",
     "output_type": "stream",
     "text": [
      "[35, 7, 69, 83, 61, 19, 25, 23, 77, 39, 91, 33, 73, 61, 85, 79, 21, 45, 13, 59, 83, 85, 97, 43, 43, 99, 61, 29, 11, 79, 97, 23, 97, 93, 41, 35, 31, 11, 11, 51, 91, 35, 97, 17, 1, 91, 33, 35, 91, 55, 33, 81, 33, 87, 3, 43, 21, 59, 15, 17, 77, 91, 1, 1, 69, 75, 53, 19, 53, 37, 89, 39, 55, 91, 79, 81, 71, 91, 97, 9, 21, 47, 79, 33, 75, 57, 21, 53, 41, 59, 75, 89, 11, 87, 7, 71, 91, 37, 85, 73, 49, 45, 55, 27, 65, 19, 73, 41, 41, 29, 67, 23, 71, 87, 89, 39, 93, 17, 89, 67, 91, 83]\n"
     ]
    }
   ],
   "source": [
    "# Tampilkan Angka Ganjil dari ke 50 nilai tersebut\n",
    "\n",
    "ganjil= []\n",
    "\n",
    "for n in nilaitugas:\n",
    "    if n % 2 == 1:\n",
    "        ganjil.append(n)\n",
    "\n",
    "print (ganjil)"
   ]
  },
  {
   "cell_type": "code",
   "execution_count": 138,
   "metadata": {},
   "outputs": [
    {
     "name": "stdout",
     "output_type": "stream",
     "text": [
      "Banyaknya elemen yang memiliki nilai lebih dari 70 adalah 90 elemen\n"
     ]
    }
   ],
   "source": [
    "#Tampilkan berapa banyak yang mendapatkan nilai lebih dari 70\n",
    "\n",
    "nilailulus =[]\n",
    "\n",
    "passinggrade = 70\n",
    "\n",
    "for lulus in nilaitugas:\n",
    "    if lulus >= passinggrade:\n",
    "        nilailulus.append(lulus)\n",
    "\n",
    "print (\"Banyaknya elemen yang memiliki nilai lebih dari 70 adalah \" + str(len(nilailulus))+\" elemen\")"
   ]
  },
  {
   "cell_type": "code",
   "execution_count": 128,
   "metadata": {},
   "outputs": [
    {
     "name": "stdout",
     "output_type": "stream",
     "text": [
      "Mean = 51.54\n",
      "==============================\n",
      "Variance = 977.17\n",
      "==============================\n",
      "Standard deviation = 31.26\n"
     ]
    }
   ],
   "source": [
    "# standard deviation\n",
    "\n",
    "#mean\n",
    "\n",
    "total = 0\n",
    "for n in nilaitugas:\n",
    "    total = total + n\n",
    "    \n",
    "mean = total / len(nilaitugas)\n",
    "\n",
    "mean = round (mean,2)\n",
    "\n",
    "print (\"Mean = \" + str(mean))\n",
    "\n",
    "print (\"==============================\")\n",
    "\n",
    "# mencari x kurang mean\n",
    "\n",
    "new_list = [(abc - mean)**2 for abc in nilaitugas] #important syntax, list baru dari looping\n",
    "\n",
    "sigmasquare = 0\n",
    "for xyz in new_list:\n",
    "    sigmasquare = sigmasquare + xyz\n",
    "\n",
    "import math\n",
    "\n",
    "variance = sigmasquare / (len(nilaitugas)-1)\n",
    "   \n",
    "variance = round (variance,2)\n",
    "    \n",
    "print (\"Variance = \" + str(beforesquare))\n",
    "\n",
    "print (\"==============================\")\n",
    "\n",
    "std = math.sqrt(laststep)\n",
    "\n",
    "std = round (std,2)\n",
    "\n",
    "print (\"Standard deviation = \" + str(std))"
   ]
  },
  {
   "cell_type": "markdown",
   "metadata": {},
   "source": [
    "### Nilai Maksimum dan Minimum"
   ]
  },
  {
   "cell_type": "code",
   "execution_count": 162,
   "metadata": {},
   "outputs": [
    {
     "name": "stdout",
     "output_type": "stream",
     "text": [
      "Maximum value is 99\n",
      "Minimum value is 1\n"
     ]
    }
   ],
   "source": [
    "#nilai minimum dan maksimum\n",
    "\n",
    "maxvalue = nilaitugas[0]\n",
    "minvalue = nilaitugas[0]\n",
    "\n",
    "for j in range (1,len(nilaitugas)):\n",
    "    if nilaitugas[j] > maxvalue:\n",
    "        maxvalue = nilaitugas[j]\n",
    "\n",
    "for r in range (1,len(nilaitugas)):\n",
    "    if nilaitugas[r] < minvalue: \n",
    "        minvalue = nilaitugas[r] \n",
    "        \n",
    "print (\"Maximum value is \" + str(maxvalue))\n",
    "print (\"Minimum value is \" + str(minvalue))"
   ]
  },
  {
   "cell_type": "markdown",
   "metadata": {},
   "source": [
    "### Mode"
   ]
  },
  {
   "cell_type": "code",
   "execution_count": 185,
   "metadata": {},
   "outputs": [
    {
     "name": "stdout",
     "output_type": "stream",
     "text": [
      "89 muncul 4 kali\n",
      "60 muncul 4 kali\n",
      "64 muncul 3 kali\n",
      "97 muncul 4 kali\n",
      "69 muncul 3 kali\n",
      "52 muncul 3 kali\n",
      "5 muncul 1 kali\n",
      "42 muncul 3 kali\n",
      "7 muncul 5 kali\n",
      "30 muncul 4 kali\n",
      "84 muncul 2 kali\n",
      "16 muncul 1 kali\n",
      "28 muncul 4 kali\n",
      "47 muncul 2 kali\n",
      "26 muncul 4 kali\n",
      "37 muncul 4 kali\n",
      "58 muncul 5 kali\n",
      "83 muncul 3 kali\n",
      "40 muncul 3 kali\n",
      "86 muncul 8 kali\n",
      "92 muncul 4 kali\n",
      "10 muncul 5 kali\n",
      "85 muncul 3 kali\n",
      "11 muncul 2 kali\n",
      "81 muncul 3 kali\n",
      "3 muncul 1 kali\n",
      "87 muncul 2 kali\n",
      "35 muncul 6 kali\n",
      "6 muncul 2 kali\n",
      "19 muncul 6 kali\n",
      "82 muncul 3 kali\n",
      "33 muncul 3 kali\n",
      "44 muncul 1 kali\n",
      "88 muncul 2 kali\n",
      "45 muncul 3 kali\n",
      "59 muncul 2 kali\n",
      "99 muncul 5 kali\n",
      "93 muncul 3 kali\n",
      "91 muncul 2 kali\n",
      "43 muncul 3 kali\n",
      "29 muncul 1 kali\n",
      "23 muncul 5 kali\n",
      "32 muncul 2 kali\n",
      "80 muncul 1 kali\n",
      "95 muncul 6 kali\n",
      "55 muncul 3 kali\n",
      "24 muncul 2 kali\n",
      "9 muncul 2 kali\n",
      "8 muncul 3 kali\n",
      "31 muncul 3 kali\n",
      "17 muncul 1 kali\n",
      "2 muncul 3 kali\n",
      "4 muncul 1 kali\n",
      "15 muncul 4 kali\n",
      "57 muncul 2 kali\n",
      "67 muncul 3 kali\n",
      "78 muncul 4 kali\n",
      "20 muncul 3 kali\n",
      "76 muncul 2 kali\n",
      "63 muncul 1 kali\n",
      "68 muncul 1 kali\n",
      "77 muncul 2 kali\n",
      "1 muncul 1 kali\n",
      "12 muncul 4 kali\n",
      "98 muncul 2 kali\n",
      "38 muncul 2 kali\n",
      "13 muncul 3 kali\n",
      "79 muncul 3 kali\n",
      "25 muncul 2 kali\n",
      "54 muncul 1 kali\n",
      "74 muncul 1 kali\n",
      "51 muncul 2 kali\n",
      "90 muncul 2 kali\n",
      "48 muncul 4 kali\n",
      "39 muncul 3 kali\n",
      "94 muncul 1 kali\n",
      "96 muncul 4 kali\n",
      "34 muncul 3 kali\n",
      "27 muncul 3 kali\n",
      "75 muncul 1 kali\n",
      "62 muncul 1 kali\n",
      "14 muncul 2 kali\n",
      "36 muncul 3 kali\n",
      "41 muncul 2 kali\n",
      "22 muncul 2 kali\n",
      "65 muncul 1 kali\n",
      "61 muncul 2 kali\n",
      "56 muncul 1 kali\n",
      "21 muncul 1 kali\n",
      "72 muncul 2 kali\n",
      "18 muncul 1 kali\n",
      "66 muncul 2 kali\n",
      "70 muncul 2 kali\n",
      "========================\n",
      "Modus pada data ini adalah [86]\n"
     ]
    }
   ],
   "source": [
    "freq = {}\n",
    "for z in nilaitugas:\n",
    "    if z not in freq:\n",
    "        freq[z] = 1\n",
    "    else:\n",
    "        freq[z] = freq[z] + 1\n",
    "\n",
    "for k,v in freq.items():\n",
    "    print(k, \"muncul\", v, \"kali\")       \n",
    "        \n",
    "count = 0\n",
    "for key in freq:\n",
    "    if freq[key] > count:\n",
    "        count = freq[key]\n",
    "      \n",
    "mode = []\n",
    "for key in freq:\n",
    "    if angka[key] == count:\n",
    "        mode.append(key)\n",
    "        \n",
    "print(\"========================\")    \n",
    "print(\"Modus pada data ini adalah \" + str(mode))"
   ]
  },
  {
   "cell_type": "code",
   "execution_count": null,
   "metadata": {},
   "outputs": [],
   "source": []
  }
 ],
 "metadata": {
  "kernelspec": {
   "display_name": "Python 3",
   "language": "python",
   "name": "python3"
  },
  "language_info": {
   "codemirror_mode": {
    "name": "ipython",
    "version": 3
   },
   "file_extension": ".py",
   "mimetype": "text/x-python",
   "name": "python",
   "nbconvert_exporter": "python",
   "pygments_lexer": "ipython3",
   "version": "3.7.0"
  }
 },
 "nbformat": 4,
 "nbformat_minor": 2
}
